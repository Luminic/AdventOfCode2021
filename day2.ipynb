{
 "cells": [
  {
   "cell_type": "code",
   "execution_count": 17,
   "metadata": {},
   "outputs": [
    {
     "name": "stdout",
     "output_type": "stream",
     "text": [
      "[['forward', '9'], ['forward', '7'], ['forward', '4'], ['down', '7'], ['forward', '5'], ['down', '4'], ['down', '2'], ['forward', '1'], ['down', '6'], ['forward', '5'], ['forward', '5'], ['forward', '8'], ['forward', '3'], ['forward', '6'], ['down', '2'], ['up', '3'], ['forward', '1'], ['up', '4'], ['forward', '1'], ['forward', '6'], ['up', '2'], ['forward', '7'], ['up', '2'], ['up', '3'], ['down', '9'], ['up', '5'], ['down', '5'], ['up', '7'], ['down', '5'], ['forward', '4'], ['forward', '1'], ['forward', '8'], ['forward', '9'], ['forward', '3'], ['forward', '9'], ['down', '1'], ['down', '1'], ['down', '1'], ['forward', '6'], ['up', '8'], ['down', '2'], ['forward', '3'], ['down', '9'], ['forward', '7'], ['down', '5'], ['up', '7'], ['down', '3'], ['forward', '5'], ['forward', '9'], ['down', '9'], ['up', '3'], ['forward', '4'], ['forward', '8'], ['up', '2'], ['forward', '4'], ['forward', '2'], ['forward', '2'], ['forward', '8'], ['up', '7'], ['up', '4'], ['down', '3'], ['forward', '2'], ['down', '9'], ['up', '1'], ['forward', '2'], ['down', '3'], ['forward', '2'], ['down', '2'], ['up', '6'], ['forward', '6'], ['forward', '2'], ['down', '9'], ['forward', '3'], ['forward', '2'], ['down', '1'], ['up', '1'], ['down', '1'], ['forward', '5'], ['forward', '4'], ['up', '6'], ['forward', '6'], ['forward', '2'], ['up', '9'], ['forward', '9'], ['forward', '5'], ['down', '8'], ['up', '9'], ['forward', '2'], ['up', '3'], ['forward', '8'], ['forward', '2'], ['down', '4'], ['down', '1'], ['up', '9'], ['up', '8'], ['forward', '3'], ['forward', '9'], ['down', '9'], ['down', '6'], ['forward', '1'], ['forward', '5'], ['up', '9'], ['down', '7'], ['up', '9'], ['down', '8'], ['down', '2'], ['down', '2'], ['up', '9'], ['forward', '7'], ['down', '4'], ['down', '7'], ['down', '8'], ['down', '9'], ['down', '9'], ['forward', '9'], ['down', '9'], ['forward', '2'], ['down', '6'], ['forward', '8'], ['forward', '1'], ['down', '6'], ['down', '8'], ['forward', '5'], ['forward', '3'], ['forward', '5'], ['down', '5'], ['forward', '6'], ['forward', '3'], ['forward', '4'], ['forward', '3'], ['down', '2'], ['down', '9'], ['down', '8'], ['down', '9'], ['up', '7'], ['up', '9'], ['up', '1'], ['down', '6'], ['down', '4'], ['forward', '8'], ['forward', '5'], ['forward', '8'], ['down', '5'], ['forward', '7'], ['down', '9'], ['forward', '9'], ['forward', '1'], ['up', '4'], ['down', '4'], ['forward', '7'], ['forward', '4'], ['up', '9'], ['forward', '6'], ['down', '8'], ['down', '5'], ['forward', '8'], ['down', '6'], ['down', '3'], ['down', '7'], ['forward', '4'], ['down', '8'], ['down', '1'], ['up', '6'], ['down', '4'], ['down', '9'], ['down', '6'], ['forward', '7'], ['down', '8'], ['forward', '5'], ['forward', '8'], ['down', '7'], ['down', '5'], ['forward', '1'], ['up', '1'], ['down', '1'], ['down', '6'], ['forward', '5'], ['forward', '6'], ['down', '1'], ['up', '6'], ['forward', '4'], ['forward', '6'], ['down', '4'], ['forward', '3'], ['up', '6'], ['forward', '2'], ['forward', '9'], ['down', '8'], ['forward', '8'], ['up', '9'], ['forward', '3'], ['forward', '4'], ['forward', '1'], ['down', '4'], ['down', '5'], ['forward', '4'], ['down', '6'], ['forward', '7'], ['down', '7'], ['down', '8'], ['up', '8'], ['up', '5'], ['down', '8'], ['down', '5'], ['forward', '8'], ['forward', '2'], ['forward', '6'], ['up', '5'], ['forward', '4'], ['forward', '2'], ['forward', '1'], ['up', '7'], ['forward', '1'], ['forward', '6'], ['down', '8'], ['down', '5'], ['down', '4'], ['forward', '2'], ['up', '8'], ['forward', '4'], ['up', '8'], ['forward', '7'], ['forward', '5'], ['down', '4'], ['up', '7'], ['down', '5'], ['down', '3'], ['forward', '2'], ['down', '2'], ['down', '2'], ['forward', '5'], ['forward', '2'], ['down', '2'], ['forward', '5'], ['down', '8'], ['forward', '7'], ['up', '8'], ['down', '6'], ['up', '5'], ['forward', '6'], ['up', '9'], ['down', '2'], ['down', '3'], ['up', '1'], ['up', '8'], ['forward', '9'], ['forward', '7'], ['forward', '9'], ['forward', '3'], ['down', '2'], ['up', '2'], ['down', '2'], ['down', '8'], ['up', '8'], ['up', '6'], ['forward', '6'], ['down', '9'], ['down', '9'], ['up', '4'], ['down', '3'], ['forward', '6'], ['forward', '9'], ['down', '6'], ['forward', '7'], ['forward', '4'], ['forward', '4'], ['down', '9'], ['down', '3'], ['forward', '1'], ['down', '7'], ['forward', '2'], ['forward', '3'], ['forward', '9'], ['forward', '5'], ['forward', '2'], ['forward', '4'], ['forward', '8'], ['up', '1'], ['forward', '5'], ['down', '4'], ['down', '2'], ['down', '7'], ['forward', '1'], ['up', '1'], ['up', '8'], ['up', '6'], ['down', '1'], ['forward', '1'], ['forward', '9'], ['forward', '8'], ['down', '7'], ['forward', '6'], ['forward', '8'], ['down', '7'], ['forward', '5'], ['down', '5'], ['down', '8'], ['down', '8'], ['forward', '8'], ['up', '1'], ['down', '7'], ['down', '4'], ['up', '4'], ['forward', '5'], ['up', '7'], ['forward', '3'], ['forward', '2'], ['down', '1'], ['forward', '3'], ['down', '5'], ['forward', '4'], ['down', '4'], ['forward', '6'], ['up', '9'], ['forward', '3'], ['down', '7'], ['forward', '7'], ['forward', '9'], ['forward', '9'], ['forward', '4'], ['up', '9'], ['up', '5'], ['down', '6'], ['down', '6'], ['forward', '8'], ['up', '6'], ['down', '2'], ['up', '5'], ['forward', '7'], ['forward', '4'], ['down', '6'], ['down', '4'], ['down', '9'], ['down', '4'], ['up', '2'], ['down', '3'], ['down', '7'], ['forward', '1'], ['forward', '4'], ['down', '6'], ['forward', '3'], ['forward', '2'], ['forward', '4'], ['down', '9'], ['forward', '8'], ['down', '3'], ['up', '4'], ['down', '5'], ['forward', '2'], ['down', '6'], ['forward', '8'], ['down', '8'], ['down', '7'], ['down', '4'], ['forward', '1'], ['down', '3'], ['forward', '9'], ['down', '2'], ['down', '9'], ['down', '2'], ['forward', '1'], ['down', '3'], ['down', '2'], ['down', '2'], ['up', '4'], ['down', '8'], ['forward', '6'], ['forward', '4'], ['forward', '4'], ['up', '9'], ['forward', '3'], ['forward', '1'], ['forward', '1'], ['up', '3'], ['forward', '9'], ['down', '2'], ['forward', '5'], ['down', '9'], ['down', '2'], ['forward', '1'], ['forward', '9'], ['down', '3'], ['forward', '3'], ['up', '3'], ['forward', '7'], ['down', '6'], ['up', '8'], ['down', '2'], ['down', '5'], ['forward', '7'], ['down', '8'], ['up', '5'], ['down', '4'], ['up', '5'], ['forward', '6'], ['forward', '3'], ['down', '2'], ['forward', '4'], ['forward', '3'], ['down', '8'], ['forward', '5'], ['forward', '5'], ['down', '5'], ['forward', '1'], ['forward', '8'], ['up', '1'], ['down', '7'], ['forward', '6'], ['forward', '3'], ['forward', '8'], ['down', '9'], ['down', '7'], ['forward', '1'], ['down', '2'], ['down', '6'], ['down', '3'], ['forward', '8'], ['down', '7'], ['forward', '2'], ['forward', '1'], ['forward', '5'], ['down', '9'], ['forward', '2'], ['forward', '2'], ['up', '4'], ['down', '9'], ['down', '4'], ['forward', '7'], ['down', '7'], ['up', '8'], ['forward', '6'], ['down', '9'], ['down', '8'], ['up', '5'], ['down', '8'], ['down', '6'], ['forward', '9'], ['up', '5'], ['up', '7'], ['down', '3'], ['up', '2'], ['down', '4'], ['up', '8'], ['up', '3'], ['down', '7'], ['forward', '9'], ['forward', '7'], ['down', '7'], ['forward', '5'], ['up', '8'], ['forward', '1'], ['down', '2'], ['forward', '8'], ['down', '3'], ['up', '5'], ['down', '9'], ['forward', '8'], ['down', '7'], ['down', '3'], ['down', '3'], ['down', '2'], ['forward', '6'], ['up', '5'], ['forward', '4'], ['down', '4'], ['down', '3'], ['down', '5'], ['forward', '8'], ['down', '3'], ['forward', '7'], ['forward', '2'], ['down', '8'], ['down', '6'], ['down', '9'], ['down', '3'], ['down', '6'], ['down', '7'], ['down', '8'], ['up', '6'], ['down', '7'], ['forward', '8'], ['down', '9'], ['forward', '1'], ['down', '6'], ['forward', '8'], ['down', '5'], ['forward', '3'], ['up', '8'], ['forward', '1'], ['down', '6'], ['forward', '4'], ['forward', '5'], ['forward', '8'], ['up', '5'], ['forward', '4'], ['down', '2'], ['down', '9'], ['up', '2'], ['forward', '1'], ['up', '8'], ['forward', '6'], ['up', '4'], ['up', '6'], ['forward', '4'], ['up', '5'], ['forward', '6'], ['forward', '1'], ['down', '3'], ['down', '6'], ['up', '2'], ['forward', '4'], ['up', '2'], ['forward', '4'], ['forward', '6'], ['down', '2'], ['down', '4'], ['up', '5'], ['down', '9'], ['up', '2'], ['down', '4'], ['up', '6'], ['forward', '3'], ['down', '6'], ['down', '2'], ['up', '8'], ['down', '3'], ['down', '1'], ['forward', '6'], ['forward', '5'], ['forward', '8'], ['down', '4'], ['down', '6'], ['down', '2'], ['forward', '3'], ['down', '3'], ['up', '8'], ['down', '4'], ['forward', '5'], ['down', '6'], ['down', '3'], ['up', '2'], ['forward', '5'], ['forward', '2'], ['down', '6'], ['down', '8'], ['forward', '1'], ['forward', '5'], ['forward', '7'], ['forward', '3'], ['forward', '6'], ['down', '9'], ['forward', '7'], ['forward', '4'], ['down', '6'], ['down', '2'], ['up', '8'], ['down', '3'], ['down', '7'], ['down', '7'], ['down', '9'], ['down', '8'], ['down', '6'], ['down', '6'], ['up', '1'], ['up', '6'], ['forward', '4'], ['down', '8'], ['up', '7'], ['down', '8'], ['forward', '9'], ['down', '9'], ['up', '9'], ['forward', '4'], ['forward', '1'], ['down', '3'], ['down', '8'], ['forward', '9'], ['down', '9'], ['forward', '3'], ['down', '2'], ['forward', '9'], ['down', '2'], ['forward', '8'], ['down', '7'], ['down', '2'], ['forward', '4'], ['forward', '3'], ['forward', '3'], ['down', '8'], ['up', '3'], ['forward', '9'], ['down', '1'], ['down', '6'], ['up', '3'], ['down', '6'], ['up', '7'], ['forward', '9'], ['up', '9'], ['down', '5'], ['forward', '6'], ['up', '1'], ['up', '6'], ['down', '4'], ['forward', '9'], ['forward', '6'], ['forward', '9'], ['down', '4'], ['up', '9'], ['up', '4'], ['forward', '2'], ['forward', '2'], ['forward', '4'], ['up', '6'], ['down', '1'], ['down', '4'], ['forward', '9'], ['down', '9'], ['forward', '3'], ['up', '9'], ['down', '4'], ['forward', '4'], ['down', '1'], ['forward', '8'], ['forward', '2'], ['down', '1'], ['down', '7'], ['down', '8'], ['forward', '1'], ['up', '7'], ['up', '7'], ['forward', '1'], ['down', '3'], ['up', '5'], ['down', '4'], ['forward', '2'], ['down', '5'], ['up', '1'], ['down', '4'], ['forward', '7'], ['down', '2'], ['down', '5'], ['down', '4'], ['forward', '7'], ['forward', '6'], ['up', '9'], ['forward', '6'], ['forward', '1'], ['forward', '7'], ['forward', '5'], ['up', '6'], ['down', '8'], ['forward', '8'], ['down', '9'], ['down', '8'], ['forward', '8'], ['down', '2'], ['down', '5'], ['forward', '8'], ['forward', '9'], ['down', '6'], ['down', '3'], ['down', '3'], ['up', '9'], ['down', '6'], ['forward', '6'], ['up', '2'], ['forward', '9'], ['forward', '7'], ['forward', '6'], ['forward', '4'], ['forward', '1'], ['down', '2'], ['forward', '1'], ['forward', '3'], ['forward', '9'], ['down', '9'], ['forward', '7'], ['forward', '3'], ['down', '8'], ['up', '7'], ['forward', '1'], ['down', '8'], ['up', '5'], ['down', '8'], ['up', '3'], ['down', '7'], ['forward', '2'], ['down', '7'], ['forward', '2'], ['down', '3'], ['forward', '3'], ['forward', '8'], ['down', '4'], ['forward', '6'], ['down', '3'], ['up', '9'], ['forward', '9'], ['up', '6'], ['up', '4'], ['up', '6'], ['down', '1'], ['forward', '3'], ['down', '7'], ['down', '9'], ['up', '9'], ['down', '2'], ['up', '6'], ['forward', '4'], ['down', '4'], ['down', '3'], ['down', '2'], ['down', '6'], ['forward', '1'], ['forward', '1'], ['up', '3'], ['forward', '5'], ['forward', '8'], ['down', '1'], ['up', '4'], ['forward', '3'], ['up', '4'], ['down', '5'], ['up', '7'], ['down', '5'], ['down', '6'], ['forward', '9'], ['forward', '8'], ['forward', '9'], ['down', '6'], ['forward', '5'], ['down', '3'], ['up', '5'], ['down', '7'], ['down', '5'], ['down', '7'], ['up', '9'], ['forward', '3'], ['forward', '4'], ['forward', '1'], ['up', '3'], ['forward', '2'], ['down', '4'], ['up', '9'], ['down', '7'], ['forward', '6'], ['forward', '5'], ['forward', '3'], ['forward', '3'], ['forward', '9'], ['up', '7'], ['down', '9'], ['forward', '4'], ['down', '7'], ['forward', '9'], ['forward', '5'], ['down', '8'], ['up', '2'], ['forward', '2'], ['down', '4'], ['up', '5'], ['up', '4'], ['forward', '5'], ['down', '4'], ['down', '9'], ['down', '7'], ['down', '2'], ['forward', '1'], ['forward', '1'], ['down', '4'], ['down', '8'], ['down', '6'], ['forward', '1'], ['up', '6'], ['up', '3'], ['up', '5'], ['down', '1'], ['down', '5'], ['up', '1'], ['up', '5'], ['forward', '2'], ['up', '2'], ['down', '3'], ['forward', '7'], ['forward', '2'], ['down', '1'], ['down', '9'], ['forward', '1'], ['down', '1'], ['forward', '9'], ['up', '9'], ['down', '9'], ['forward', '9'], ['down', '4'], ['down', '1'], ['up', '5'], ['down', '2'], ['forward', '9'], ['down', '2'], ['up', '3'], ['up', '6'], ['forward', '1'], ['forward', '8'], ['down', '5'], ['down', '8'], ['up', '2'], ['down', '2'], ['up', '4'], ['down', '2'], ['down', '4'], ['forward', '6'], ['up', '4'], ['down', '1'], ['forward', '9'], ['forward', '4'], ['down', '9'], ['up', '7'], ['forward', '7'], ['down', '3'], ['forward', '2'], ['down', '6'], ['up', '6'], ['down', '5'], ['down', '7'], ['forward', '4'], ['forward', '1'], ['forward', '7'], ['forward', '4'], ['forward', '4'], ['up', '2'], ['down', '2'], ['down', '5'], ['forward', '7'], ['down', '6'], ['forward', '8'], ['down', '3'], ['down', '9'], ['forward', '7'], ['forward', '1'], ['down', '2'], ['up', '7'], ['forward', '4'], ['forward', '2'], ['forward', '6'], ['forward', '5'], ['forward', '9'], ['forward', '9'], ['down', '9'], ['down', '9'], ['up', '7'], ['forward', '7'], ['forward', '7'], ['forward', '1'], ['forward', '2'], ['down', '1'], ['down', '4'], ['forward', '7'], ['forward', '5'], ['down', '1'], ['up', '2'], ['forward', '3'], ['forward', '2'], ['forward', '1'], ['forward', '6'], ['down', '4'], ['up', '6'], ['forward', '7'], ['down', '1'], ['forward', '4'], ['up', '6'], ['down', '7'], ['down', '4'], ['forward', '1'], ['down', '8'], ['down', '2'], ['down', '1'], ['down', '8'], ['forward', '4'], ['up', '8'], ['down', '4'], ['up', '9'], ['up', '3'], ['forward', '6'], ['up', '9'], ['down', '1'], ['forward', '3'], ['up', '3'], ['forward', '5'], ['up', '3'], ['down', '6'], ['forward', '9'], ['down', '3'], ['down', '3'], ['up', '5'], ['forward', '5'], ['forward', '8'], ['forward', '9'], ['down', '6'], ['down', '3'], ['forward', '6'], ['up', '4'], ['up', '3'], ['forward', '3'], ['forward', '2'], ['down', '2'], ['up', '9'], ['forward', '4'], ['forward', '6'], ['forward', '2'], ['up', '9'], ['down', '2'], ['forward', '7'], ['down', '7'], ['up', '1'], ['forward', '2'], ['forward', '8'], ['down', '2'], ['down', '6'], ['down', '1'], ['forward', '3'], ['forward', '5'], ['forward', '6'], ['forward', '3'], ['down', '3'], ['down', '7'], ['up', '3'], ['forward', '2'], ['forward', '5'], ['down', '9'], ['forward', '3'], ['down', '9'], ['up', '6'], ['down', '6'], ['forward', '3'], ['down', '5'], ['forward', '1'], ['down', '5'], ['up', '3'], ['forward', '8'], ['forward', '8'], ['down', '5'], ['down', '6'], ['down', '1'], ['forward', '9'], ['forward', '4'], ['forward', '1'], ['forward', '8'], ['down', '8'], ['down', '9'], ['forward', '7'], ['forward', '9'], ['down', '2'], ['down', '6'], ['down', '8'], ['down', '3'], ['forward', '5'], ['forward', '7'], ['forward', '4'], ['down', '9'], ['down', '2'], ['forward', '4'], ['forward', '7'], ['down', '2'], ['down', '7'], ['forward', '8'], ['down', '8'], ['forward', '4'], ['up', '8'], ['forward', '3'], ['forward', '9'], ['forward', '4'], ['down', '9'], ['down', '6'], ['up', '1'], ['down', '3'], ['down', '7'], ['down', '4'], ['forward', '9'], ['forward', '4'], ['up', '9'], ['down', '6'], ['forward', '3'], ['up', '1'], ['down', '8'], ['down', '5'], ['forward', '9'], ['down', '4'], ['down', '2'], ['down', '2'], ['down', '5'], ['up', '5'], ['down', '5'], ['forward', '5'], ['forward', '2'], ['up', '1'], ['forward', '2'], ['up', '2'], ['forward', '8'], ['down', '2'], ['down', '7'], ['forward', '1']]\n"
     ]
    }
   ],
   "source": [
    "prog_inp = \"\"\"forward 5\n",
    "down 5\n",
    "forward 8\n",
    "up 3\n",
    "down 8\n",
    "forward 2\"\"\".split('\\n')\n",
    "\n",
    "with open(\"day2_input.txt\", \"r\") as f:\n",
    "    prog_inp = f.readlines()\n",
    "\n",
    "prog_inp = [line.rstrip().split(' ') for line in prog_inp if line != \"\\n\"]\n",
    "\n",
    "print(prog_inp)"
   ]
  },
  {
   "cell_type": "code",
   "execution_count": 14,
   "metadata": {},
   "outputs": [
    {
     "name": "stdout",
     "output_type": "stream",
     "text": [
      "2117664\n"
     ]
    }
   ],
   "source": [
    "horz_pos = 0\n",
    "depth = 0\n",
    "\n",
    "for inp in prog_inp:\n",
    "    distance = int(inp[1])\n",
    "    if inp[0] == 'forward':\n",
    "        horz_pos += distance\n",
    "    elif inp[0] == 'down':\n",
    "        depth += distance\n",
    "    elif inp[0] == 'up':\n",
    "        depth -= distance\n",
    "\n",
    "print(horz_pos * depth)"
   ]
  },
  {
   "cell_type": "code",
   "execution_count": 18,
   "metadata": {},
   "outputs": [
    {
     "name": "stdout",
     "output_type": "stream",
     "text": [
      "2073416724\n"
     ]
    }
   ],
   "source": [
    "horz_pos = 0\n",
    "depth = 0\n",
    "aim = 0\n",
    "\n",
    "for inp in prog_inp:\n",
    "    distance = int(inp[1])\n",
    "    if inp[0] == 'forward':\n",
    "        horz_pos += distance\n",
    "        depth += aim * distance\n",
    "    elif inp[0] == 'down':\n",
    "        aim += distance\n",
    "    elif inp[0] == 'up':\n",
    "        aim -= distance\n",
    "\n",
    "print(horz_pos * depth)"
   ]
  }
 ],
 "metadata": {
  "interpreter": {
   "hash": "e7370f93d1d0cde622a1f8e1c04877d8463912d04d973331ad4851f04de6915a"
  },
  "kernelspec": {
   "display_name": "Python 3.9.7 64-bit",
   "language": "python",
   "name": "python3"
  },
  "language_info": {
   "codemirror_mode": {
    "name": "ipython",
    "version": 3
   },
   "file_extension": ".py",
   "mimetype": "text/x-python",
   "name": "python",
   "nbconvert_exporter": "python",
   "pygments_lexer": "ipython3",
   "version": "3.9.7"
  },
  "orig_nbformat": 4
 },
 "nbformat": 4,
 "nbformat_minor": 2
}
