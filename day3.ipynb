{
 "cells": [
  {
   "cell_type": "code",
   "execution_count": 19,
   "metadata": {},
   "outputs": [
    {
     "name": "stdout",
     "output_type": "stream",
     "text": [
      "[['0', '0', '1', '0', '0'], ['1', '1', '1', '1', '0'], ['1', '0', '1', '1', '0'], ['1', '0', '1', '1', '1'], ['1', '0', '1', '0', '1'], ['0', '1', '1', '1', '1'], ['0', '0', '1', '1', '1'], ['1', '1', '1', '0', '0'], ['1', '0', '0', '0', '0'], ['1', '1', '0', '0', '1'], ['0', '0', '0', '1', '0'], ['0', '1', '0', '1', '0']]\n"
     ]
    }
   ],
   "source": [
    "prog_inp = \"\"\"00100\n",
    "11110\n",
    "10110\n",
    "10111\n",
    "10101\n",
    "01111\n",
    "00111\n",
    "11100\n",
    "10000\n",
    "11001\n",
    "00010\n",
    "01010\"\"\".split('\\n')\n",
    "\n",
    "# with open(\"day3_input.txt\", \"r\") as f:\n",
    "#     prog_inp = f.readlines()\n",
    "\n",
    "prog_inp = [list(line.rstrip()) for line in prog_inp if line != \"\\n\"]\n",
    "\n",
    "print(prog_inp)"
   ]
  },
  {
   "cell_type": "code",
   "execution_count": 31,
   "metadata": {},
   "outputs": [
    {
     "name": "stdout",
     "output_type": "stream",
     "text": [
      "198\n"
     ]
    }
   ],
   "source": [
    "n_bits = len(prog_inp[0])\n",
    "\n",
    "def get_ge_rates(inp):\n",
    "    gamma_rate = [0]*n_bits\n",
    "    epsilon_rate = [0]*n_bits\n",
    "\n",
    "    for i, n in enumerate(inp):\n",
    "        for j, bit in enumerate(n):\n",
    "            if bit == '0':\n",
    "                gamma_rate[j] -= 1\n",
    "            elif bit == '1':\n",
    "                gamma_rate[j] += 1\n",
    "\n",
    "    for i, bit in enumerate(gamma_rate):\n",
    "        epsilon_rate[i] = '0' if gamma_rate[i] > 0 else '1'\n",
    "        gamma_rate[i] = '1' if gamma_rate[i] > 0 else '0'\n",
    "\n",
    "    return (gamma_rate, epsilon_rate)\n",
    "\n",
    "(gamma_rate, epsilon_rate) = get_ge_rates(prog_inp)\n",
    "\n",
    "def conv(x):\n",
    "    return int(''.join(x), base=2)\n",
    "\n",
    "gamma_rate_n = conv(gamma_rate)\n",
    "epsilon_rate_n = conv(epsilon_rate)\n",
    "\n",
    "print(gamma_rate_n * epsilon_rate_n)"
   ]
  },
  {
   "cell_type": "code",
   "execution_count": 29,
   "metadata": {},
   "outputs": [
    {
     "name": "stdout",
     "output_type": "stream",
     "text": [
      "[['1', '0', '1', '1', '0']]\n",
      "['1', '0', '1', '1', '0']\n",
      "22\n"
     ]
    }
   ],
   "source": [
    "O2 = prog_inp[:]\n",
    "\n",
    "for i in range(n_bits):\n",
    "    current_gamma_rate = get_ge_rates()\n",
    "    for j in range(len(O2)-1, -1, -1):\n",
    "        if O2[j][i] != current_gamma_rate[i]:\n",
    "            del O2[j]\n",
    "    if len(O2) <= 1:\n",
    "        break\n",
    "\n",
    "print(O2)\n",
    "print(gamma_rate)\n",
    "print(conv(O2[0]))"
   ]
  }
 ],
 "metadata": {
  "interpreter": {
   "hash": "e7370f93d1d0cde622a1f8e1c04877d8463912d04d973331ad4851f04de6915a"
  },
  "kernelspec": {
   "display_name": "Python 3.9.7 64-bit",
   "language": "python",
   "name": "python3"
  },
  "language_info": {
   "codemirror_mode": {
    "name": "ipython",
    "version": 3
   },
   "file_extension": ".py",
   "mimetype": "text/x-python",
   "name": "python",
   "nbconvert_exporter": "python",
   "pygments_lexer": "ipython3",
   "version": "3.9.7"
  },
  "orig_nbformat": 4
 },
 "nbformat": 4,
 "nbformat_minor": 2
}
